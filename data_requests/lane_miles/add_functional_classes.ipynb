{
 "cells": [
  {
   "cell_type": "code",
   "execution_count": 1,
   "id": "068b11e2",
   "metadata": {},
   "outputs": [],
   "source": [
    "import geopandas as gpd\n",
    "import pygeos, os, glob\n",
    "from sqlalchemy import create_engine"
   ]
  },
  {
   "cell_type": "code",
   "execution_count": 2,
   "id": "5eeadba1",
   "metadata": {},
   "outputs": [],
   "source": [
    "engine = create_engine(   \n",
    "\"mssql+pyodbc:///?odbc_connect=\"\n",
    "\"Driver%3D%7BODBC+Driver+17+for+SQL+Server%7D%3B\"\n",
    "\"Server%3Drliddb.int.lcog.org%2C5433%3B\"\n",
    "\"Database%3DRLIDGeo%3B\"\n",
    "\"Trusted_Connection%3Dyes%3B\"\n",
    "\"ApplicationIntent%3DReadWrite%3B\"\n",
    "\"WSID%3Dclwrk4087.int.lcog.org%3B\")"
   ]
  },
  {
   "cell_type": "code",
   "execution_count": 3,
   "id": "9ff1c1bc",
   "metadata": {},
   "outputs": [],
   "source": [
    "sql = '''\n",
    "SELECT \n",
    "OBJECTID AS id,\n",
    "name,\n",
    "type,\n",
    "fed_class,\n",
    "Shape.STAsBinary() AS geometry\n",
    "FROM dbo.Road;\n",
    "'''"
   ]
  },
  {
   "cell_type": "code",
   "execution_count": 4,
   "id": "6ec51126",
   "metadata": {},
   "outputs": [],
   "source": [
    "roads = gpd.GeoDataFrame.from_postgis(sql, engine, geom_col='geometry' )"
   ]
  },
  {
   "cell_type": "code",
   "execution_count": 5,
   "id": "346f10b5",
   "metadata": {},
   "outputs": [],
   "source": [
    "roads.crs = \"EPSG:2914\""
   ]
  },
  {
   "cell_type": "code",
   "execution_count": 6,
   "id": "07e36a84",
   "metadata": {},
   "outputs": [
    {
     "data": {
      "text/html": [
       "<div>\n",
       "<style scoped>\n",
       "    .dataframe tbody tr th:only-of-type {\n",
       "        vertical-align: middle;\n",
       "    }\n",
       "\n",
       "    .dataframe tbody tr th {\n",
       "        vertical-align: top;\n",
       "    }\n",
       "\n",
       "    .dataframe thead th {\n",
       "        text-align: right;\n",
       "    }\n",
       "</style>\n",
       "<table border=\"1\" class=\"dataframe\">\n",
       "  <thead>\n",
       "    <tr style=\"text-align: right;\">\n",
       "      <th></th>\n",
       "      <th>id</th>\n",
       "      <th>name</th>\n",
       "      <th>type</th>\n",
       "      <th>fed_class</th>\n",
       "      <th>geometry</th>\n",
       "    </tr>\n",
       "  </thead>\n",
       "  <tbody>\n",
       "    <tr>\n",
       "      <th>0</th>\n",
       "      <td>1</td>\n",
       "      <td>FRANKLIN SCHOOL</td>\n",
       "      <td>RD</td>\n",
       "      <td>Local</td>\n",
       "      <td>LINESTRING (4183480.518 925529.728, 4183475.26...</td>\n",
       "    </tr>\n",
       "    <tr>\n",
       "      <th>1</th>\n",
       "      <td>2</td>\n",
       "      <td>ALCORN</td>\n",
       "      <td>ST</td>\n",
       "      <td>Local</td>\n",
       "      <td>LINESTRING (4301176.027 922365.878, 4301184.02...</td>\n",
       "    </tr>\n",
       "    <tr>\n",
       "      <th>2</th>\n",
       "      <td>3</td>\n",
       "      <td>WALLING</td>\n",
       "      <td>ST</td>\n",
       "      <td>Local</td>\n",
       "      <td>LINESTRING (4303049.526 922151.132, 4303037.02...</td>\n",
       "    </tr>\n",
       "    <tr>\n",
       "      <th>3</th>\n",
       "      <td>4</td>\n",
       "      <td>RAILROAD</td>\n",
       "      <td>LN</td>\n",
       "      <td>Local</td>\n",
       "      <td>LINESTRING (4300168.023 921087.826, 4300329.02...</td>\n",
       "    </tr>\n",
       "    <tr>\n",
       "      <th>4</th>\n",
       "      <td>5</td>\n",
       "      <td>PETE NEWELL</td>\n",
       "      <td>DR</td>\n",
       "      <td>Local</td>\n",
       "      <td>LINESTRING (4467432.695 918795.907, 4467636.19...</td>\n",
       "    </tr>\n",
       "  </tbody>\n",
       "</table>\n",
       "</div>"
      ],
      "text/plain": [
       "   id             name type fed_class  \\\n",
       "0   1  FRANKLIN SCHOOL   RD     Local   \n",
       "1   2           ALCORN   ST     Local   \n",
       "2   3          WALLING   ST     Local   \n",
       "3   4         RAILROAD   LN     Local   \n",
       "4   5      PETE NEWELL   DR     Local   \n",
       "\n",
       "                                            geometry  \n",
       "0  LINESTRING (4183480.518 925529.728, 4183475.26...  \n",
       "1  LINESTRING (4301176.027 922365.878, 4301184.02...  \n",
       "2  LINESTRING (4303049.526 922151.132, 4303037.02...  \n",
       "3  LINESTRING (4300168.023 921087.826, 4300329.02...  \n",
       "4  LINESTRING (4467432.695 918795.907, 4467636.19...  "
      ]
     },
     "execution_count": 6,
     "metadata": {},
     "output_type": "execute_result"
    }
   ],
   "source": [
    "roads.head()"
   ]
  },
  {
   "cell_type": "code",
   "execution_count": 7,
   "id": "901661c8",
   "metadata": {},
   "outputs": [],
   "source": [
    "path = r\"T:\\DCProjects\\Modeling\\KateModel\\requests\\20220210 lane miles\""
   ]
  },
  {
   "cell_type": "code",
   "execution_count": 8,
   "id": "9d8f8de4",
   "metadata": {},
   "outputs": [],
   "source": [
    "shpfiles = glob.glob(os.path.join(path, \"2020_BaseNetwork\", \"*.shp\"))"
   ]
  },
  {
   "cell_type": "code",
   "execution_count": 9,
   "id": "03c5d62b",
   "metadata": {},
   "outputs": [],
   "source": [
    "shpfiles.extend(glob.glob(os.path.join(path, \"2045_RTP_Network_Shapefiles\", \"*.shp\")))"
   ]
  },
  {
   "cell_type": "code",
   "execution_count": 10,
   "id": "bb1c8f93",
   "metadata": {},
   "outputs": [
    {
     "data": {
      "text/plain": [
       "['T:\\\\DCProjects\\\\Modeling\\\\KateModel\\\\requests\\\\20220210 lane miles\\\\2020_BaseNetwork\\\\2020_emme_links.shp',\n",
       " 'T:\\\\DCProjects\\\\Modeling\\\\KateModel\\\\requests\\\\20220210 lane miles\\\\2020_BaseNetwork\\\\2020_emme_nodes.shp',\n",
       " 'T:\\\\DCProjects\\\\Modeling\\\\KateModel\\\\requests\\\\20220210 lane miles\\\\2020_BaseNetwork\\\\2020_emme_tlines.shp',\n",
       " 'T:\\\\DCProjects\\\\Modeling\\\\KateModel\\\\requests\\\\20220210 lane miles\\\\2045_RTP_Network_Shapefiles\\\\2045_emme_links.shp',\n",
       " 'T:\\\\DCProjects\\\\Modeling\\\\KateModel\\\\requests\\\\20220210 lane miles\\\\2045_RTP_Network_Shapefiles\\\\2045_emme_nodes.shp',\n",
       " 'T:\\\\DCProjects\\\\Modeling\\\\KateModel\\\\requests\\\\20220210 lane miles\\\\2045_RTP_Network_Shapefiles\\\\emme_tlines_OffPeak.shp',\n",
       " 'T:\\\\DCProjects\\\\Modeling\\\\KateModel\\\\requests\\\\20220210 lane miles\\\\2045_RTP_Network_Shapefiles\\\\emme_tlines_Peak.shp',\n",
       " 'T:\\\\DCProjects\\\\Modeling\\\\KateModel\\\\requests\\\\20220210 lane miles\\\\2045_RTP_Network_Shapefiles\\\\emme_tsegs_OffPeak.shp',\n",
       " 'T:\\\\DCProjects\\\\Modeling\\\\KateModel\\\\requests\\\\20220210 lane miles\\\\2045_RTP_Network_Shapefiles\\\\emme_tsegs_Peak.shp']"
      ]
     },
     "execution_count": 10,
     "metadata": {},
     "output_type": "execute_result"
    }
   ],
   "source": [
    "shpfiles"
   ]
  },
  {
   "cell_type": "code",
   "execution_count": 11,
   "id": "2e2a0f85",
   "metadata": {},
   "outputs": [],
   "source": [
    "file = shpfiles[0]"
   ]
  },
  {
   "cell_type": "code",
   "execution_count": 12,
   "id": "65878c05",
   "metadata": {},
   "outputs": [
    {
     "data": {
      "text/plain": [
       "'T:\\\\DCProjects\\\\Modeling\\\\KateModel\\\\requests\\\\20220210 lane miles\\\\2020_BaseNetwork\\\\2020_emme_links.shp'"
      ]
     },
     "execution_count": 12,
     "metadata": {},
     "output_type": "execute_result"
    }
   ],
   "source": [
    "file"
   ]
  },
  {
   "cell_type": "code",
   "execution_count": 13,
   "id": "317eb124",
   "metadata": {},
   "outputs": [],
   "source": [
    "gdf = gpd.read_file(file)"
   ]
  },
  {
   "cell_type": "code",
   "execution_count": 14,
   "id": "e91e9207",
   "metadata": {},
   "outputs": [],
   "source": [
    "roads = roads.to_crs(gdf.crs)"
   ]
  },
  {
   "cell_type": "code",
   "execution_count": 15,
   "id": "04693522",
   "metadata": {},
   "outputs": [
    {
     "data": {
      "text/plain": [
       "<Projected CRS: PROJCS[\"NAD27 / Oregon South\",GEOGCS[\"NAD27\",DATUM ...>\n",
       "Name: NAD27 / Oregon South\n",
       "Axis Info [cartesian]:\n",
       "- [east]: Easting (US survey mile)\n",
       "- [north]: Northing (US survey mile)\n",
       "Area of Use:\n",
       "- undefined\n",
       "Coordinate Operation:\n",
       "- name: unnamed\n",
       "- method: Lambert Conic Conformal (2SP)\n",
       "Datum: North American Datum 1927\n",
       "- Ellipsoid: Clarke 1866\n",
       "- Prime Meridian: Greenwich"
      ]
     },
     "execution_count": 15,
     "metadata": {},
     "output_type": "execute_result"
    }
   ],
   "source": [
    "gdf.crs"
   ]
  },
  {
   "cell_type": "code",
   "execution_count": 16,
   "id": "2c078457",
   "metadata": {},
   "outputs": [
    {
     "name": "stdout",
     "output_type": "stream",
     "text": [
      "PROJCS[\"NAD27 / Oregon South\",GEOGCS[\"NAD27\",DATUM[\"North_American_Datum_1927\",SPHEROID[\"Clarke 1866\",6378206.4,294.9786982,AUTHORITY[\"EPSG\",\"7008\"]],AUTHORITY[\"EPSG\",\"6267\"]],PRIMEM[\"Greenwich\",0],UNIT[\"Degree\",0.0174532925199433],AUTHORITY[\"EPSG\",\"4267\"]],PROJECTION[\"Lambert_Conformal_Conic_2SP\"],PARAMETER[\"latitude_of_origin\",41.6666666666667],PARAMETER[\"central_meridian\",-120.5],PARAMETER[\"standard_parallel_1\",42.3333333333333],PARAMETER[\"standard_parallel_2\",44],PARAMETER[\"false_easting\",378.8439095681],PARAMETER[\"false_northing\",0.006818182],UNIT[\"US survey mile\",1609.34721869444,AUTHORITY[\"EPSG\",\"9035\"]],AXIS[\"Easting\",EAST],AXIS[\"Northing\",NORTH]]\n"
     ]
    }
   ],
   "source": [
    "print(gdf.crs)"
   ]
  },
  {
   "cell_type": "code",
   "execution_count": 17,
   "id": "aeff347e",
   "metadata": {},
   "outputs": [],
   "source": [
    "def addFunctionalClass(file, export=True):\n",
    "    gdf = gpd.read_file(file)\n",
    "    sjoin = gpd.sjoin_nearest(gdf, roads, distance_col=\"distances\")\n",
    "    if file.find('nodes')==-1:\n",
    "        sjoin['miles'] = sjoin.geometry.length\n",
    "    if export:\n",
    "        sjoin.drop(columns=['index_right', 'id', 'name', 'type'], inplace=True)\n",
    "        sjoin.to_file(os.path.join(path, 'output', file.split('\\\\')[-1]))\n",
    "         \n",
    "    return sjoin"
   ]
  },
  {
   "cell_type": "code",
   "execution_count": 18,
   "id": "cbc7f6a6",
   "metadata": {},
   "outputs": [],
   "source": [
    "sjoin = addFunctionalClass(file, export=False)"
   ]
  },
  {
   "cell_type": "code",
   "execution_count": 19,
   "id": "3459909b",
   "metadata": {},
   "outputs": [
    {
     "data": {
      "text/html": [
       "<div>\n",
       "<style scoped>\n",
       "    .dataframe tbody tr th:only-of-type {\n",
       "        vertical-align: middle;\n",
       "    }\n",
       "\n",
       "    .dataframe tbody tr th {\n",
       "        vertical-align: top;\n",
       "    }\n",
       "\n",
       "    .dataframe thead th {\n",
       "        text-align: right;\n",
       "    }\n",
       "</style>\n",
       "<table border=\"1\" class=\"dataframe\">\n",
       "  <thead>\n",
       "    <tr style=\"text-align: right;\">\n",
       "      <th></th>\n",
       "      <th>ID</th>\n",
       "      <th>INODE</th>\n",
       "      <th>JNODE</th>\n",
       "      <th>LENGTH</th>\n",
       "      <th>TYPE</th>\n",
       "      <th>MODES</th>\n",
       "      <th>LANES</th>\n",
       "      <th>VDF</th>\n",
       "      <th>DATA1</th>\n",
       "      <th>DATA2</th>\n",
       "      <th>...</th>\n",
       "      <th>@wlen</th>\n",
       "      <th>@xland</th>\n",
       "      <th>geometry</th>\n",
       "      <th>index_right</th>\n",
       "      <th>id</th>\n",
       "      <th>name</th>\n",
       "      <th>type</th>\n",
       "      <th>fed_class</th>\n",
       "      <th>distances</th>\n",
       "      <th>miles</th>\n",
       "    </tr>\n",
       "  </thead>\n",
       "  <tbody>\n",
       "    <tr>\n",
       "      <th>0</th>\n",
       "      <td>1-2519</td>\n",
       "      <td>1</td>\n",
       "      <td>2519</td>\n",
       "      <td>0.4</td>\n",
       "      <td>9</td>\n",
       "      <td>awp</td>\n",
       "      <td>1.0</td>\n",
       "      <td>20</td>\n",
       "      <td>189.173030</td>\n",
       "      <td>115.521740</td>\n",
       "      <td>...</td>\n",
       "      <td>0.4</td>\n",
       "      <td>0.0</td>\n",
       "      <td>LINESTRING (249.737 173.779, 249.720 173.375)</td>\n",
       "      <td>14548</td>\n",
       "      <td>14578</td>\n",
       "      <td>GREEN ISLAND</td>\n",
       "      <td>RD</td>\n",
       "      <td>Local</td>\n",
       "      <td>0.000000</td>\n",
       "      <td>0.404100</td>\n",
       "    </tr>\n",
       "    <tr>\n",
       "      <th>5286</th>\n",
       "      <td>2518-2519</td>\n",
       "      <td>2518</td>\n",
       "      <td>2519</td>\n",
       "      <td>0.5</td>\n",
       "      <td>7</td>\n",
       "      <td>abwxp</td>\n",
       "      <td>1.0</td>\n",
       "      <td>5</td>\n",
       "      <td>93.754204</td>\n",
       "      <td>50.903637</td>\n",
       "      <td>...</td>\n",
       "      <td>0.5</td>\n",
       "      <td>0.0</td>\n",
       "      <td>LINESTRING (249.700 172.877, 249.720 173.375)</td>\n",
       "      <td>14548</td>\n",
       "      <td>14578</td>\n",
       "      <td>GREEN ISLAND</td>\n",
       "      <td>RD</td>\n",
       "      <td>Local</td>\n",
       "      <td>0.007781</td>\n",
       "      <td>0.498375</td>\n",
       "    </tr>\n",
       "    <tr>\n",
       "      <th>5288</th>\n",
       "      <td>2519-1</td>\n",
       "      <td>2519</td>\n",
       "      <td>1</td>\n",
       "      <td>0.4</td>\n",
       "      <td>9</td>\n",
       "      <td>awp</td>\n",
       "      <td>1.0</td>\n",
       "      <td>20</td>\n",
       "      <td>121.205310</td>\n",
       "      <td>75.419678</td>\n",
       "      <td>...</td>\n",
       "      <td>0.4</td>\n",
       "      <td>0.0</td>\n",
       "      <td>LINESTRING (249.720 173.375, 249.737 173.779)</td>\n",
       "      <td>14548</td>\n",
       "      <td>14578</td>\n",
       "      <td>GREEN ISLAND</td>\n",
       "      <td>RD</td>\n",
       "      <td>Local</td>\n",
       "      <td>0.000000</td>\n",
       "      <td>0.404100</td>\n",
       "    </tr>\n",
       "    <tr>\n",
       "      <th>5289</th>\n",
       "      <td>2519-2518</td>\n",
       "      <td>2519</td>\n",
       "      <td>2518</td>\n",
       "      <td>0.5</td>\n",
       "      <td>7</td>\n",
       "      <td>abwxp</td>\n",
       "      <td>1.0</td>\n",
       "      <td>5</td>\n",
       "      <td>75.745468</td>\n",
       "      <td>43.332863</td>\n",
       "      <td>...</td>\n",
       "      <td>0.5</td>\n",
       "      <td>0.0</td>\n",
       "      <td>LINESTRING (249.720 173.375, 249.700 172.877)</td>\n",
       "      <td>14548</td>\n",
       "      <td>14578</td>\n",
       "      <td>GREEN ISLAND</td>\n",
       "      <td>RD</td>\n",
       "      <td>Local</td>\n",
       "      <td>0.007781</td>\n",
       "      <td>0.498375</td>\n",
       "    </tr>\n",
       "    <tr>\n",
       "      <th>1</th>\n",
       "      <td>2-1822</td>\n",
       "      <td>2</td>\n",
       "      <td>1822</td>\n",
       "      <td>0.4</td>\n",
       "      <td>9</td>\n",
       "      <td>awp</td>\n",
       "      <td>2.0</td>\n",
       "      <td>20</td>\n",
       "      <td>2685.900100</td>\n",
       "      <td>1562.664300</td>\n",
       "      <td>...</td>\n",
       "      <td>0.4</td>\n",
       "      <td>0.0</td>\n",
       "      <td>LINESTRING (251.613 174.981, 251.631 174.584)</td>\n",
       "      <td>20858</td>\n",
       "      <td>20916</td>\n",
       "      <td>WILKINS</td>\n",
       "      <td>RD</td>\n",
       "      <td>Local</td>\n",
       "      <td>0.000000</td>\n",
       "      <td>0.396908</td>\n",
       "    </tr>\n",
       "  </tbody>\n",
       "</table>\n",
       "<p>5 rows × 50 columns</p>\n",
       "</div>"
      ],
      "text/plain": [
       "             ID  INODE  JNODE  LENGTH  TYPE  MODES  LANES  VDF        DATA1  \\\n",
       "0        1-2519      1   2519     0.4     9    awp    1.0   20   189.173030   \n",
       "5286  2518-2519   2518   2519     0.5     7  abwxp    1.0    5    93.754204   \n",
       "5288     2519-1   2519      1     0.4     9    awp    1.0   20   121.205310   \n",
       "5289  2519-2518   2519   2518     0.5     7  abwxp    1.0    5    75.745468   \n",
       "1        2-1822      2   1822     0.4     9    awp    2.0   20  2685.900100   \n",
       "\n",
       "            DATA2  ...  @wlen  @xland  \\\n",
       "0      115.521740  ...    0.4     0.0   \n",
       "5286    50.903637  ...    0.5     0.0   \n",
       "5288    75.419678  ...    0.4     0.0   \n",
       "5289    43.332863  ...    0.5     0.0   \n",
       "1     1562.664300  ...    0.4     0.0   \n",
       "\n",
       "                                           geometry  index_right     id  \\\n",
       "0     LINESTRING (249.737 173.779, 249.720 173.375)        14548  14578   \n",
       "5286  LINESTRING (249.700 172.877, 249.720 173.375)        14548  14578   \n",
       "5288  LINESTRING (249.720 173.375, 249.737 173.779)        14548  14578   \n",
       "5289  LINESTRING (249.720 173.375, 249.700 172.877)        14548  14578   \n",
       "1     LINESTRING (251.613 174.981, 251.631 174.584)        20858  20916   \n",
       "\n",
       "              name  type  fed_class  distances     miles  \n",
       "0     GREEN ISLAND    RD      Local   0.000000  0.404100  \n",
       "5286  GREEN ISLAND    RD      Local   0.007781  0.498375  \n",
       "5288  GREEN ISLAND    RD      Local   0.000000  0.404100  \n",
       "5289  GREEN ISLAND    RD      Local   0.007781  0.498375  \n",
       "1          WILKINS    RD      Local   0.000000  0.396908  \n",
       "\n",
       "[5 rows x 50 columns]"
      ]
     },
     "execution_count": 19,
     "metadata": {},
     "output_type": "execute_result"
    }
   ],
   "source": [
    "sjoin.head()"
   ]
  },
  {
   "cell_type": "code",
   "execution_count": 20,
   "id": "c1a923f7",
   "metadata": {},
   "outputs": [
    {
     "name": "stdout",
     "output_type": "stream",
     "text": [
      "T:\\DCProjects\\Modeling\\KateModel\\requests\\20220210 lane miles\\2020_BaseNetwork\\2020_emme_links.shp\n",
      "T:\\DCProjects\\Modeling\\KateModel\\requests\\20220210 lane miles\\2020_BaseNetwork\\2020_emme_nodes.shp\n",
      "T:\\DCProjects\\Modeling\\KateModel\\requests\\20220210 lane miles\\2020_BaseNetwork\\2020_emme_tlines.shp\n",
      "T:\\DCProjects\\Modeling\\KateModel\\requests\\20220210 lane miles\\2045_RTP_Network_Shapefiles\\2045_emme_links.shp\n",
      "T:\\DCProjects\\Modeling\\KateModel\\requests\\20220210 lane miles\\2045_RTP_Network_Shapefiles\\2045_emme_nodes.shp\n",
      "T:\\DCProjects\\Modeling\\KateModel\\requests\\20220210 lane miles\\2045_RTP_Network_Shapefiles\\emme_tlines_OffPeak.shp\n",
      "T:\\DCProjects\\Modeling\\KateModel\\requests\\20220210 lane miles\\2045_RTP_Network_Shapefiles\\emme_tlines_Peak.shp\n",
      "T:\\DCProjects\\Modeling\\KateModel\\requests\\20220210 lane miles\\2045_RTP_Network_Shapefiles\\emme_tsegs_OffPeak.shp\n",
      "T:\\DCProjects\\Modeling\\KateModel\\requests\\20220210 lane miles\\2045_RTP_Network_Shapefiles\\emme_tsegs_Peak.shp\n"
     ]
    }
   ],
   "source": [
    "for file in shpfiles:\n",
    "    sjoin = addFunctionalClass(file)\n",
    "    print(file)"
   ]
  }
 ],
 "metadata": {
  "kernelspec": {
   "display_name": "Python 3",
   "language": "python",
   "name": "python3"
  },
  "language_info": {
   "codemirror_mode": {
    "name": "ipython",
    "version": 3
   },
   "file_extension": ".py",
   "mimetype": "text/x-python",
   "name": "python",
   "nbconvert_exporter": "python",
   "pygments_lexer": "ipython3",
   "version": "3.8.8"
  }
 },
 "nbformat": 4,
 "nbformat_minor": 5
}
