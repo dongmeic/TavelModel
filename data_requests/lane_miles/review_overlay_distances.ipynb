{
 "cells": [
  {
   "cell_type": "code",
   "execution_count": 1,
   "id": "258f34c5",
   "metadata": {},
   "outputs": [],
   "source": [
    "import geopandas as gpd\n",
    "import pandas as pd\n",
    "import os"
   ]
  },
  {
   "cell_type": "code",
   "execution_count": 2,
   "id": "2b4ef576",
   "metadata": {},
   "outputs": [],
   "source": [
    "path = r\"T:\\DCProjects\\Modeling\\KateModel\\requests\\20220210 lane miles\""
   ]
  },
  {
   "cell_type": "code",
   "execution_count": 3,
   "id": "1c05f923",
   "metadata": {},
   "outputs": [],
   "source": [
    "file = '2020_emme_links.shp'"
   ]
  },
  {
   "cell_type": "code",
   "execution_count": 4,
   "id": "c96ffc67",
   "metadata": {},
   "outputs": [],
   "source": [
    "gdf20 = gpd.read_file(os.path.join(path,'output',file))"
   ]
  },
  {
   "cell_type": "code",
   "execution_count": 5,
   "id": "d5d1d749",
   "metadata": {},
   "outputs": [
    {
     "data": {
      "text/plain": [
       "Index(['ID', 'INODE', 'JNODE', 'LENGTH', 'TYPE', 'MODES', 'LANES', 'VDF',\n",
       "       'DATA1', 'DATA2', 'DATA3', 'VOLAX', 'VOLAU', 'VOLAD', 'TIMAU', '@adc11',\n",
       "       '@apxct', '@ccind', '@count', '@cut14', '@cutln', '@cutwi', '@dtwa',\n",
       "       '@eugd', '@euint', '@hpms', '@htvol', '@hvol', '@laned', '@mtvol',\n",
       "       '@odotd', '@pmc11', '@spd', '@spd11', '@spfdd', '@svol', '@type',\n",
       "       '@ul1', '@vdf11', '@vdfup', '@wlen', '@xland', 'fed_class', 'distances',\n",
       "       'miles', 'geometry'],\n",
       "      dtype='object')"
      ]
     },
     "execution_count": 5,
     "metadata": {},
     "output_type": "execute_result"
    }
   ],
   "source": [
    "gdf20.columns"
   ]
  },
  {
   "cell_type": "code",
   "execution_count": 6,
   "id": "fbab9c5d",
   "metadata": {},
   "outputs": [
    {
     "data": {
      "text/plain": [
       "<AxesSubplot:>"
      ]
     },
     "execution_count": 6,
     "metadata": {},
     "output_type": "execute_result"
    },
    {
     "data": {
      "image/png": "[encoded data removed]",
      "text/plain": [
       "<Figure size 432x288 with 1 Axes>"
      ]
     },
     "metadata": {
      "needs_background": "light"
     },
     "output_type": "display_data"
    }
   ],
   "source": [
    "gdf20.distances.hist()"
   ]
  },
  {
   "cell_type": "code",
   "execution_count": 7,
   "id": "21db6450",
   "metadata": {},
   "outputs": [
    {
     "data": {
      "text/plain": [
       "count    17451.000000\n",
       "mean         0.003141\n",
       "std          0.011204\n",
       "min          0.000000\n",
       "25%          0.000000\n",
       "50%          0.000000\n",
       "75%          0.000000\n",
       "max          0.205397\n",
       "Name: distances, dtype: float64"
      ]
     },
     "execution_count": 7,
     "metadata": {},
     "output_type": "execute_result"
    }
   ],
   "source": [
    "gdf20.distances.describe()"
   ]
  },
  {
   "cell_type": "code",
   "execution_count": 24,
   "id": "ea32a5ff",
   "metadata": {},
   "outputs": [
    {
     "data": {
      "text/plain": [
       "0.0"
      ]
     },
     "execution_count": 24,
     "metadata": {},
     "output_type": "execute_result"
    }
   ],
   "source": [
    "gdf20.distances.quantile(0.84)"
   ]
  },
  {
   "cell_type": "code",
   "execution_count": 8,
   "id": "f66c8790",
   "metadata": {},
   "outputs": [
    {
     "data": {
      "text/html": [
       "<div>\n",
       "<style scoped>\n",
       "    .dataframe tbody tr th:only-of-type {\n",
       "        vertical-align: middle;\n",
       "    }\n",
       "\n",
       "    .dataframe tbody tr th {\n",
       "        vertical-align: top;\n",
       "    }\n",
       "\n",
       "    .dataframe thead th {\n",
       "        text-align: right;\n",
       "    }\n",
       "</style>\n",
       "<table border=\"1\" class=\"dataframe\">\n",
       "  <thead>\n",
       "    <tr style=\"text-align: right;\">\n",
       "      <th></th>\n",
       "      <th>miles</th>\n",
       "    </tr>\n",
       "    <tr>\n",
       "      <th>fed_class</th>\n",
       "      <th></th>\n",
       "    </tr>\n",
       "  </thead>\n",
       "  <tbody>\n",
       "    <tr>\n",
       "      <th>Collector</th>\n",
       "      <td>0.148227</td>\n",
       "    </tr>\n",
       "    <tr>\n",
       "      <th>Interstate</th>\n",
       "      <td>3.125259</td>\n",
       "    </tr>\n",
       "    <tr>\n",
       "      <th>Local</th>\n",
       "      <td>22.356084</td>\n",
       "    </tr>\n",
       "    <tr>\n",
       "      <th>Major Collector</th>\n",
       "      <td>10.160786</td>\n",
       "    </tr>\n",
       "    <tr>\n",
       "      <th>Minor Arterial</th>\n",
       "      <td>15.019200</td>\n",
       "    </tr>\n",
       "    <tr>\n",
       "      <th>Minor Collector</th>\n",
       "      <td>1.915396</td>\n",
       "    </tr>\n",
       "    <tr>\n",
       "      <th>Other Freeways and Expressways</th>\n",
       "      <td>1.347267</td>\n",
       "    </tr>\n",
       "    <tr>\n",
       "      <th>Other Principal Arterial</th>\n",
       "      <td>1.598100</td>\n",
       "    </tr>\n",
       "  </tbody>\n",
       "</table>\n",
       "</div>"
      ],
      "text/plain": [
       "                                    miles\n",
       "fed_class                                \n",
       "Collector                        0.148227\n",
       "Interstate                       3.125259\n",
       "Local                           22.356084\n",
       "Major Collector                 10.160786\n",
       "Minor Arterial                  15.019200\n",
       "Minor Collector                  1.915396\n",
       "Other Freeways and Expressways   1.347267\n",
       "Other Principal Arterial         1.598100"
      ]
     },
     "execution_count": 8,
     "metadata": {},
     "output_type": "execute_result"
    }
   ],
   "source": [
    "gdf20[gdf20.distances > 0.05][['fed_class', 'miles']].groupby('fed_class').agg('sum')"
   ]
  },
  {
   "cell_type": "code",
   "execution_count": 9,
   "id": "95925eb1",
   "metadata": {},
   "outputs": [],
   "source": [
    "file = '2045_emme_links.shp'"
   ]
  },
  {
   "cell_type": "code",
   "execution_count": 10,
   "id": "37a38335",
   "metadata": {},
   "outputs": [],
   "source": [
    "gdf45 = gpd.read_file(os.path.join(path,'output',file))"
   ]
  },
  {
   "cell_type": "code",
   "execution_count": 11,
   "id": "0870dd0e",
   "metadata": {},
   "outputs": [
    {
     "data": {
      "text/plain": [
       "<AxesSubplot:>"
      ]
     },
     "execution_count": 11,
     "metadata": {},
     "output_type": "execute_result"
    },
    {
     "data": {
      "image/png": "[encoded data removed]",
      "text/plain": [
       "<Figure size 432x288 with 1 Axes>"
      ]
     },
     "metadata": {
      "needs_background": "light"
     },
     "output_type": "display_data"
    }
   ],
   "source": [
    "gdf45.distances.hist()"
   ]
  },
  {
   "cell_type": "code",
   "execution_count": 12,
   "id": "9dd9341b",
   "metadata": {
    "scrolled": true
   },
   "outputs": [
    {
     "data": {
      "text/plain": [
       "count    18479.000000\n",
       "mean         0.003992\n",
       "std          0.014559\n",
       "min          0.000000\n",
       "25%          0.000000\n",
       "50%          0.000000\n",
       "75%          0.000000\n",
       "max          0.261944\n",
       "Name: distances, dtype: float64"
      ]
     },
     "execution_count": 12,
     "metadata": {},
     "output_type": "execute_result"
    }
   ],
   "source": [
    "gdf45.distances.describe()"
   ]
  },
  {
   "cell_type": "code",
   "execution_count": 13,
   "id": "38a792b2",
   "metadata": {},
   "outputs": [
    {
     "data": {
      "text/html": [
       "<div>\n",
       "<style scoped>\n",
       "    .dataframe tbody tr th:only-of-type {\n",
       "        vertical-align: middle;\n",
       "    }\n",
       "\n",
       "    .dataframe tbody tr th {\n",
       "        vertical-align: top;\n",
       "    }\n",
       "\n",
       "    .dataframe thead th {\n",
       "        text-align: right;\n",
       "    }\n",
       "</style>\n",
       "<table border=\"1\" class=\"dataframe\">\n",
       "  <thead>\n",
       "    <tr style=\"text-align: right;\">\n",
       "      <th></th>\n",
       "      <th>miles</th>\n",
       "    </tr>\n",
       "    <tr>\n",
       "      <th>fed_class</th>\n",
       "      <th></th>\n",
       "    </tr>\n",
       "  </thead>\n",
       "  <tbody>\n",
       "    <tr>\n",
       "      <th>Collector</th>\n",
       "      <td>1.543757</td>\n",
       "    </tr>\n",
       "    <tr>\n",
       "      <th>Interstate</th>\n",
       "      <td>3.125259</td>\n",
       "    </tr>\n",
       "    <tr>\n",
       "      <th>Local</th>\n",
       "      <td>33.956283</td>\n",
       "    </tr>\n",
       "    <tr>\n",
       "      <th>Major Collector</th>\n",
       "      <td>18.704282</td>\n",
       "    </tr>\n",
       "    <tr>\n",
       "      <th>Minor Arterial</th>\n",
       "      <td>16.736173</td>\n",
       "    </tr>\n",
       "    <tr>\n",
       "      <th>Minor Collector</th>\n",
       "      <td>2.214401</td>\n",
       "    </tr>\n",
       "    <tr>\n",
       "      <th>Other Freeways and Expressways</th>\n",
       "      <td>1.347267</td>\n",
       "    </tr>\n",
       "    <tr>\n",
       "      <th>Other Principal Arterial</th>\n",
       "      <td>2.024777</td>\n",
       "    </tr>\n",
       "  </tbody>\n",
       "</table>\n",
       "</div>"
      ],
      "text/plain": [
       "                                    miles\n",
       "fed_class                                \n",
       "Collector                        1.543757\n",
       "Interstate                       3.125259\n",
       "Local                           33.956283\n",
       "Major Collector                 18.704282\n",
       "Minor Arterial                  16.736173\n",
       "Minor Collector                  2.214401\n",
       "Other Freeways and Expressways   1.347267\n",
       "Other Principal Arterial         2.024777"
      ]
     },
     "execution_count": 13,
     "metadata": {},
     "output_type": "execute_result"
    }
   ],
   "source": [
    "gdf45[gdf45.distances > 0.05][['fed_class', 'miles']].groupby('fed_class').agg('sum')"
   ]
  },
  {
   "cell_type": "code",
   "execution_count": 18,
   "id": "e7336e2b",
   "metadata": {},
   "outputs": [
    {
     "data": {
      "text/plain": [
       "0.062565135877558"
      ]
     },
     "execution_count": 18,
     "metadata": {},
     "output_type": "execute_result"
    }
   ],
   "source": [
    "gdf45.distances.quantile(0.99)"
   ]
  }
 ],
 "metadata": {
  "kernelspec": {
   "display_name": "Python 3",
   "language": "python",
   "name": "python3"
  },
  "language_info": {
   "codemirror_mode": {
    "name": "ipython",
    "version": 3
   },
   "file_extension": ".py",
   "mimetype": "text/x-python",
   "name": "python",
   "nbconvert_exporter": "python",
   "pygments_lexer": "ipython3",
   "version": "3.8.8"
  }
 },
 "nbformat": 4,
 "nbformat_minor": 5
}
