{
 "cells": [
  {
   "cell_type": "code",
   "execution_count": 1,
   "id": "d6281317",
   "metadata": {},
   "outputs": [],
   "source": [
    "import geopandas as gpd\n",
    "import pandas as pd\n",
    "import os"
   ]
  },
  {
   "cell_type": "code",
   "execution_count": 2,
   "id": "0585223b",
   "metadata": {},
   "outputs": [],
   "source": [
    "path = r\"T:\\DCProjects\\Modeling\\KateModel\\requests\\20220210 lane miles\""
   ]
  },
  {
   "cell_type": "code",
   "execution_count": 3,
   "id": "2f9d9e1a",
   "metadata": {},
   "outputs": [],
   "source": [
    "file = '2020_emme_links.shp'"
   ]
  },
  {
   "cell_type": "code",
   "execution_count": 4,
   "id": "375fbd83",
   "metadata": {},
   "outputs": [],
   "source": [
    "df = pd.read_excel(os.path.join(path, 'CLMPO Lane Miles.xlsx'), skiprows=1)\n",
    "df.rename(columns={'Unnamed: 0':'Functional Classification'}, inplace=True)"
   ]
  },
  {
   "cell_type": "code",
   "execution_count": 5,
   "id": "1d733947",
   "metadata": {},
   "outputs": [],
   "source": [
    "df_mapping = pd.DataFrame({'fed_class': df['Functional Classification'].values})\n",
    "sort_mapping = df_mapping.reset_index().set_index('fed_class')"
   ]
  },
  {
   "cell_type": "code",
   "execution_count": 6,
   "id": "68728cdf",
   "metadata": {},
   "outputs": [],
   "source": [
    "def aggLaneMiles(file):\n",
    "    gdf = gpd.read_file(os.path.join(path,'output',file))\n",
    "    aggdata = gdf[['miles', 'fed_class']].groupby('fed_class').agg('sum')\n",
    "    aggdata = {'fed_class':aggdata.index.values,'miles':aggdata.miles.values}\n",
    "    aggdata = pd.DataFrame(aggdata)\n",
    "    aggdata['fed_class'] = aggdata['fed_class'].str.replace('and','&')\n",
    "    aggdata['order'] = aggdata['fed_class'].map(sort_mapping['index'])\n",
    "    return aggdata.dropna().sort_values('order').miles.values"
   ]
  },
  {
   "cell_type": "code",
   "execution_count": 7,
   "id": "f791064a",
   "metadata": {},
   "outputs": [
    {
     "data": {
      "text/plain": [
       "array([  87.45753493,   94.43993019,  120.30960597,  347.03139523,\n",
       "        253.3708006 ,  185.31155025, 2079.56250318])"
      ]
     },
     "execution_count": 7,
     "metadata": {},
     "output_type": "execute_result"
    }
   ],
   "source": [
    "aggLaneMiles(file)"
   ]
  },
  {
   "cell_type": "code",
   "execution_count": 8,
   "id": "89760a71",
   "metadata": {},
   "outputs": [],
   "source": [
    "df['Base Year'] = aggLaneMiles('2020_emme_links.shp')\n",
    "df['Future Year'] = aggLaneMiles('2045_emme_links.shp')"
   ]
  },
  {
   "cell_type": "code",
   "execution_count": 9,
   "id": "2db9050a",
   "metadata": {},
   "outputs": [
    {
     "data": {
      "text/html": [
       "<div>\n",
       "<style scoped>\n",
       "    .dataframe tbody tr th:only-of-type {\n",
       "        vertical-align: middle;\n",
       "    }\n",
       "\n",
       "    .dataframe tbody tr th {\n",
       "        vertical-align: top;\n",
       "    }\n",
       "\n",
       "    .dataframe thead th {\n",
       "        text-align: right;\n",
       "    }\n",
       "</style>\n",
       "<table border=\"1\" class=\"dataframe\">\n",
       "  <thead>\n",
       "    <tr style=\"text-align: right;\">\n",
       "      <th></th>\n",
       "      <th>Functional Classification</th>\n",
       "      <th>Base Year</th>\n",
       "      <th>Future Year</th>\n",
       "    </tr>\n",
       "  </thead>\n",
       "  <tbody>\n",
       "    <tr>\n",
       "      <th>0</th>\n",
       "      <td>Interstate</td>\n",
       "      <td>87.457535</td>\n",
       "      <td>89.559305</td>\n",
       "    </tr>\n",
       "    <tr>\n",
       "      <th>1</th>\n",
       "      <td>Other Freeways &amp; Expressways</td>\n",
       "      <td>94.439930</td>\n",
       "      <td>104.181209</td>\n",
       "    </tr>\n",
       "    <tr>\n",
       "      <th>2</th>\n",
       "      <td>Other Principal Arterial</td>\n",
       "      <td>120.309606</td>\n",
       "      <td>126.266413</td>\n",
       "    </tr>\n",
       "    <tr>\n",
       "      <th>3</th>\n",
       "      <td>Minor Arterial</td>\n",
       "      <td>347.031395</td>\n",
       "      <td>371.100859</td>\n",
       "    </tr>\n",
       "    <tr>\n",
       "      <th>4</th>\n",
       "      <td>Major Collector</td>\n",
       "      <td>253.370801</td>\n",
       "      <td>283.479892</td>\n",
       "    </tr>\n",
       "    <tr>\n",
       "      <th>5</th>\n",
       "      <td>Minor Collector</td>\n",
       "      <td>185.311550</td>\n",
       "      <td>192.182215</td>\n",
       "    </tr>\n",
       "    <tr>\n",
       "      <th>6</th>\n",
       "      <td>Local</td>\n",
       "      <td>2079.562503</td>\n",
       "      <td>2179.535656</td>\n",
       "    </tr>\n",
       "  </tbody>\n",
       "</table>\n",
       "</div>"
      ],
      "text/plain": [
       "      Functional Classification    Base Year  Future Year\n",
       "0                    Interstate    87.457535    89.559305\n",
       "1  Other Freeways & Expressways    94.439930   104.181209\n",
       "2      Other Principal Arterial   120.309606   126.266413\n",
       "3                Minor Arterial   347.031395   371.100859\n",
       "4               Major Collector   253.370801   283.479892\n",
       "5               Minor Collector   185.311550   192.182215\n",
       "6                         Local  2079.562503  2179.535656"
      ]
     },
     "execution_count": 9,
     "metadata": {},
     "output_type": "execute_result"
    }
   ],
   "source": [
    "df"
   ]
  },
  {
   "cell_type": "code",
   "execution_count": 10,
   "id": "7227c54c",
   "metadata": {},
   "outputs": [],
   "source": [
    "df.to_csv(os.path.join(path, 'output', 'CLMPO_Lane_Miles.csv'), index=False)"
   ]
  }
 ],
 "metadata": {
  "kernelspec": {
   "display_name": "Python 3",
   "language": "python",
   "name": "python3"
  },
  "language_info": {
   "codemirror_mode": {
    "name": "ipython",
    "version": 3
   },
   "file_extension": ".py",
   "mimetype": "text/x-python",
   "name": "python",
   "nbconvert_exporter": "python",
   "pygments_lexer": "ipython3",
   "version": "3.8.8"
  }
 },
 "nbformat": 4,
 "nbformat_minor": 5
}
