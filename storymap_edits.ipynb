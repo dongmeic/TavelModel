{
 "cells": [
  {
   "cell_type": "code",
   "execution_count": 1,
   "id": "196c7a41",
   "metadata": {},
   "outputs": [],
   "source": [
    "from arcgis.gis import GIS\n",
    "from arcgis.apps.storymap import Image, StoryMap\n",
    "from arcgis.mapping import WebMap\n",
    "from arcgis.apps.storymap.story_content import Text\n",
    "import os\n",
    "import pickle"
   ]
  },
  {
   "cell_type": "code",
   "execution_count": 2,
   "id": "680a3e97",
   "metadata": {},
   "outputs": [],
   "source": [
    "gis = GIS(\"home\")"
   ]
  },
  {
   "cell_type": "code",
   "execution_count": 3,
   "id": "8340f369",
   "metadata": {},
   "outputs": [],
   "source": [
    "exst_stry = StoryMap(\"2443776146344b3d803f95e8761fed52\")"
   ]
  },
  {
   "cell_type": "code",
   "execution_count": 4,
   "id": "9308d2a6",
   "metadata": {},
   "outputs": [
    {
     "data": {
      "text/html": [
       "<div class=\"item_container\" style=\"height: auto; overflow: hidden; border: 1px solid #cfcfcf; border-radius: 2px; background: #f6fafa; line-height: 1.21429em; padding: 10px;\">\n",
       "                    <div class=\"item_left\" style=\"width: 210px; float: left;\">\n",
       "                       <a href='https://www.arcgis.com//home/item.html?id=2443776146344b3d803f95e8761fed52' target='_blank'>\n",
       "                        <img src='data:image/png;base64,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' width='200' height='133' class=\"itemThumbnail\">\n",
       "                       </a>\n",
       "                    </div>\n",
       "\n",
       "                    <div class=\"item_right\"     style=\"float: none; width: auto; overflow: hidden;\">\n",
       "                        <a href='https://www.arcgis.com//home/item.html?id=2443776146344b3d803f95e8761fed52' target='_blank'><b>Travel Demand Modeling</b>\n",
       "                        </a>\n",
       "                        <br/>How to estimate future movements based on current behaviors<img src='https://www.arcgis.com//home/js/jsapi/esri/css/images/item_type_icons/layers16.png' style=\"vertical-align:middle;\">StoryMap by DCHEN_LCOG\n",
       "                        <br/>Last Modified: February 10, 2023\n",
       "                        <br/>0 comments, 27 views\n",
       "                    </div>\n",
       "                </div>\n",
       "                "
      ],
      "text/plain": [
       "{\"root\": \"n-x4hbBI\", \"nodes\": {\"n-csGo7X\": {\"type\": \"image\", \"data\": {\"image\": \"r-cWNndr\", \"isExpandable\": false}}, \"n-YwZww0\": {\"type\": \"storycover\", \"data\": {\"type\": \"minimal\", \"title\": \"Travel Demand Modeling\", \"summary\": \"How to estimate future movements based on current behaviors\", \"byline\": \"Central Lane Metropolitan Planning Organization\", \"titlePanelPosition\": \"start\"}, \"children\": [\"n-csGo7X\"]}, \"n-twEbk5\": {\"type\": \"navigation\", \"data\": {\"links\": [{\"nodeId\": \"n-iXqYEq\", \"customText\": \"Introduction\", \"linkType\": \"story-heading\"}, {\"nodeId\": \"n-38SuMx\", \"customText\": \"Four-step Process\", \"linkType\": \"story-heading\"}, {\"nodeId\": \"n-tZrXNo\", \"customText\": \"Types\", \"linkType\": \"story-heading\"}, {\"nodeId\": \"n-VR1cdU\", \"customText\": \"Advantages\", \"linkType\": \"story-heading\"}, {\"nodeId\": \"n-9mSYKV\", \"customText\": \"Limitations\", \"linkType\": \"story-heading\"}, {\"nodeId\": \"n-d5naoD\", \"linkType\": \"story-heading\"}]}, \"config\": {\"isHidden\": false}}, \"n-iXqYEq\": {\"type\": \"text\", \"data\": {\"type\": \"h2\", \"text\": \"What is travel demand modeling?\"}}, \"n-N7RSip\": {\"type\": \"text\", \"data\": {\"type\": \"paragraph\", \"text\": \"\"}}, \"n-hcy8er\": {\"type\": \"text\", \"data\": {\"text\": \"Travel demand modeling is a way to understand how many people will travel from one place to another, and how and when they will do so. It is the process of estimating the number of trips that will be made in a specific area, such as a city or region, for a specific purpose, such as work or leisure, over a specific period, such as a day or a year. The purpose of travel demand modeling is to help transportation planners and policymakers make informed decisions about the future of transportation systems, such as the design of new roads, the location of public transportation facilities, and the allocation of transportation funding.\", \"type\": \"paragraph\"}}, \"n-b638kJ\": {\"type\": \"text\", \"data\": {\"text\": \"Imagine you want to go on a trip to visit your family who lives in another city. To get there, you might drive, take a train, or fly on an airplane. These are all different ways to travel and each has its own benefits and drawbacks. You will make a decision based on factors like how far away the city is, how much it costs to fly, how long it takes to drive, what choices are available, and how comfortable you are with the different choices, etc.  Travel demand models collect information like this to calculate how many people will generate how many trips using various travel modes during different times.\", \"type\": \"paragraph\"}}, \"n-9Sv7a3\": {\"type\": \"image\", \"data\": {\"image\": \"r-SFx7eP\", \"caption\": \"A simple illustration of travel demand model factors\"}}, \"n-mDShma\": {\"type\": \"text\", \"data\": {\"text\": \"Central Lane Metropolitan Planning Organization (CLMPO) uses travel demand models to figure out how to make transportation more efficient, convenient, and safe in the cities of Eugene, Springfield, and Coburg. The model estimation helps CLMPO identify potential traffic congestion at certain locations, improve public transportation across the region, and encourage people to use alternative modes of transportation such as biking or walking, or carpooling. \", \"type\": \"paragraph\"}}, \"n-ngeNvZ\": {\"type\": \"text\", \"data\": {\"type\": \"paragraph\", \"text\": \"In short, travel demand modeling helps us understand how people travel and make decisions about how to improve our transportation options.\"}}, \"n-wotYzs\": {\"type\": \"image\", \"data\": {\"image\": \"r-PEnQW7\", \"isExpandable\": true, \"expressImage\": \"r-WguS19\", \"expressImageDataId\": \"r-Z5ct2Y\", \"caption\": \"Image source: A Webinar by National Center for Sustainable Transportation\"}, \"config\": {\"size\": \"standard\"}}, \"n-38SuMx\": {\"type\": \"text\", \"data\": {\"type\": \"h2\", \"text\": \"How does a travel demand model work?\"}}, \"n-3hrcPU\": {\"type\": \"text\", \"data\": {\"type\": \"paragraph\", \"text\": \"A travel demand model is a mathematical representation of the way people choose to travel from one place to another. It typically includes a representation of the transportation network, the characteristics of travelers (e.g., income, age, and trip purpose), and the relationship between these factors and travel behavior. The basic idea behind travel demand modeling is that people's travel decisions are influenced by various factors, including the time and cost of the trip, the quality and availability of transportation options, and land-use patterns. Travel demand models simulate how these factors interact and influence travel behavior to forecast how people will travel, typically in response to changes in travel conditions, such as the availability of transportation services, changes in the cost of travel, changes in land use patterns, or changes in population demographics.\"}}, \"n-JGaLVx\": {\"type\": \"text\", \"data\": {\"text\": \"The most common type of travel demand model is a four-step model, which includes the following steps:\", \"type\": \"paragraph\"}}, \"n-5rumHP\": {\"type\": \"text\", \"data\": {\"text\": \"<li><strong>Trip Generation</strong>: The first step is to estimate the number of trips that are generated from each origin location to each destination location. This step is based on demographic and land-use data, such as population and employment data, as well as on previous travel survey data.</li><li><strong>Trip Distribution</strong>: This step determines the destination of each trip generated in the previous step, using gravity-based models or entropy-maximizing models. The choice of destination is based on various factors, including travel time, cost, and accessibility.</li><li><strong>Mode Choice</strong>: In this step, the model estimates the mode of transportation that people are likely to use for each trip. This step considers factors such as travel time, cost, and accessibility for different modes of transportation.</li><li><strong>Route Assignment</strong>: The final step is to assign the trips to specific routes. This step uses network-based models that take into account the available transportation infrastructure, traffic conditions, and other factors to determine the most likely route for each trip</li>\", \"type\": \"numbered-list\"}}, \"n-5ykkMG\": {\"type\": \"image\", \"data\": {\"caption\": \"A simple illustration of the 4-step model\", \"image\": \"r-XBO7Af\", \"expressImage\": \"r-4DdayZ\", \"expressImageDataId\": \"r-eGr2mx\"}}, \"n-eOVglB\": {\"type\": \"text\", \"data\": {\"text\": \"CLMPO applies the four-step model provided by <a href=\\\"https://www.oregonmetro.gov/sites/default/files/2020/05/13/trip-based-travel-demand-model-methodology-report-May-2020.pdf\\\" rel=\\\"noopener noreferrer\\\" target=\\\"_blank\\\">Metro</a>. The first three steps are related to travel demand and the final step to travel supply. \", \"type\": \"paragraph\"}}, \"n-hv53tZ\": {\"type\": \"text\", \"data\": {\"text\": \"Typically, a travel demand model consists of four main components:\", \"type\": \"paragraph\"}}, \"n-O8DdQ0\": {\"type\": \"text\", \"data\": {\"type\": \"numbered-list\", \"text\": \"<li>A representation of the <strong>transportation network</strong>: This includes a description of the road network, public transportation network, and other travel modes that are available.</li><li>A representation of the <strong>population and activity patterns</strong>: This includes information on the demographics and behavior of the population, including the location and type of activities (e.g., work, school, shopping) that people engage in.</li><li>A representation of the <strong>choice process</strong>: This component models the decision-making process that individuals use to choose their travel mode and route, taking into account factors such as travel time, cost, comfort, and accessibility.</li><li>A <strong>calibration and validation</strong> process: The model is calibrated using actual travel data and validated using additional data, such as traffic counts or survey data, to ensure that the model accurately reflects real-world travel patterns.</li>\"}}, \"n-xYnk0S\": {\"type\": \"text\", \"data\": {\"type\": \"paragraph\", \"text\": \"Once the model is built and calibrated, it can be used to simulate the effects of changes to the transportation network, such as the construction of new highways or public transportation lines, or changes to travel conditions, such as changes in fuel prices or congestion levels.\"}}, \"n-8kPlkF\": {\"type\": \"text\", \"data\": {\"text\": \"In general, the accuracy of a travel demand model depends on the quality and availability of data, the model structure and assumptions, and the skill of the modeler. It is important to regularly validate the model against observed data and make adjustments as needed.\", \"type\": \"paragraph\"}}, \"n-tZrXNo\": {\"type\": \"text\", \"data\": {\"type\": \"h2\", \"text\": \"Types of travel demand models\"}}, \"n-vGOTy3\": {\"type\": \"text\", \"data\": {\"type\": \"paragraph\", \"text\": \"\"}}, \"n-Z7X8ep\": {\"type\": \"text\", \"data\": {\"type\": \"paragraph\", \"text\": \"In their article <em>TRIP-based transport travel demand model for intelligent transport system measure evaluation based on micro simulation</em>,  Zenina <em>et al.</em> (2017) describes four common types of travel demand models include trip-based (the classic 4-step model), extend trip-based, tour-based, and activity-based, depending on the analysis units and whether there are additional considerations. The extended trip-based type includes additional advanced functions that improve model capabilities and credibility, the tour-based type divides individual travel into separate tours, the activity-based type contains generated activities, identified destinations for these activities, certain mode choice distribution and defined specific route choices. \"}}, \"n-5syjNn\": {\"type\": \"image\", \"data\": {\"image\": \"r-6Vh5L1\", \"caption\": \"Examples of transport travel demand models trips, source: Zenina <em>et al.</em> (2017)\"}}, \"n-jrPZco\": {\"type\": \"text\", \"data\": {\"type\": \"paragraph\", \"text\": \"Based on the computational methods applied in travel demand models, the types can be deterministic, stochastic, dynamic, agent-based, equilibrium, or hybrid models, in terms of the conceptual model of travel behavior; simulation, optimization, or  machine learning models, in terms of the mathematical representation of travel behavior,  \"}}, \"n-Oqk8NA\": {\"type\": \"text\", \"data\": {\"text\": \"Each type of model has its own strengths and limitations, and the choice of model will depend on the specific problem being addressed and the data available. For example, agent-based models and equilibrium models provide a more detailed representation of travel behavior but require more computational resources, while deterministic models are simpler to implement but provide a less detailed representation of travel behavior. In some cases, multiple models may be combined to take advantage of the strengths of each approach. The use of more advanced computational methods, such as machine learning, can help to improve the accuracy and reliability of travel demand predictions.\", \"type\": \"paragraph\"}}, \"n-VR1cdU\": {\"type\": \"text\", \"data\": {\"text\": \"Advantages of travel demand models\", \"type\": \"h2\"}}, \"n-yU1UUa\": {\"type\": \"text\", \"data\": {\"type\": \"h3\", \"text\": \"Efficiency in planning and decision-making\"}}, \"n-NaFqCx\": {\"type\": \"text\", \"data\": {\"type\": \"paragraph\", \"text\": \"Travel demand models provide insights into travel patterns and trends, which can be used by transportation planners and decision-makers to make informed decisions about the allocation of resources and the development of transportation systems.\"}}, \"n-HE7FT2\": {\"type\": \"text\", \"data\": {\"type\": \"paragraph\", \"text\": \"By analyzing travel demand and predicting future travel patterns, transportation planners can identify areas where infrastructure improvements are needed, such as the construction of new roads, bridges, and public transportation systems, and help allocate resources more efficiently and effectively.\"}}, \"n-nmuncw\": {\"type\": \"text\", \"data\": {\"type\": \"paragraph\", \"text\": \"Travel demand models can be used to optimize the use of existing transportation infrastructure and improve the efficiency of the transportation system. Travel demand models can also help to minimize the costs associated with transportation planning and infrastructure development by identifying the most cost-effective solutions for meeting transportation needs.\"}}, \"n-Rc9CrC\": {\"type\": \"text\", \"data\": {\"type\": \"h3\", \"text\": \"Positive impacts on people and the environment\"}}, \"n-kr8Fbi\": {\"type\": \"text\", \"data\": {\"type\": \"paragraph\", \"text\": \"Travel demand models provide a better understanding of how people travel, including their travel behavior and preferences. This information can be used to improve transportation services and increase the overall satisfaction of travelers. Travel demand models can be used to engage the public in the transportation planning process by providing a transparent and accessible representation of travel patterns and their potential impact. They can also be used to assess the environmental impact of transportation systems and to identify opportunities for reducing emissions and other environmental impacts.\"}}, \"n-9mSYKV\": {\"type\": \"text\", \"data\": {\"type\": \"h2\", \"text\": \"Limitations of of travel demand models\"}}, \"n-O2OfFg\": {\"type\": \"text\", \"data\": {\"type\": \"paragraph\", \"text\": \"\"}}, \"n-72ziDy\": {\"type\": \"text\", \"data\": {\"type\": \"h3\", \"text\": \"Data constraints and model complexity\"}}, \"n-dcGNiu\": {\"type\": \"text\", \"data\": {\"text\": \" Travel demand models require a large amount of data, including origin-destination data, demographic data, travel survey data, and other data sources. The quality and availability of data can greatly impact the accuracy of the model.\", \"type\": \"paragraph\"}}, \"n-D5Pdq8\": {\"type\": \"text\", \"data\": {\"text\": \"The complexity of travel demand models can make it difficult to accurately capture all of the factors that influence travel behavior, such as mode choice, trip purpose, and travel time and cost.  Mode choice is a complex and multi-faceted decision that is influenced by many factors, such as travel time, cost, comfort, and convenience. Mode choice models are often used in conjunction with travel demand models, but these models can also have limitations and may not fully capture the underlying factors that influence mode choice.\", \"type\": \"paragraph\"}}, \"n-N4yPCC\": {\"type\": \"text\", \"data\": {\"text\": \"Travel demand models make a number of assumptions about traveler behavior and the underlying transportation system. These assumptions can affect the accuracy of the model, especially when conditions change over time. Meanwhile, the time horizon of travel demand models is typically limited, which means that they may not be able to accurately predict travel behavior over the long term.\", \"type\": \"paragraph\"}}, \"n-uxnOFF\": {\"type\": \"text\", \"data\": {\"text\": \"Lack of detail and flexibility\", \"type\": \"h3\"}}, \"n-2UMvRp\": {\"type\": \"text\", \"data\": {\"text\": \"Travel demand models often lack the detail necessary to fully understand the complex and nuanced nature of travel behavior. For example, they may not be able to capture the effects of specific land use patterns or transportation policies. The models are often designed to provide predictions for a specific set of conditions, and they may not be able to adapt to changes in the environment, such as changes in land use or transportation infrastructure. External factors, such as changes in the economy, land use patterns, technology, and government policies, can greatly impact travel behavior and make it difficult to predict. Travel demand models may not be able to accurately capture these factors.\", \"type\": \"paragraph\"}}, \"n-d5naoD\": {\"type\": \"text\", \"data\": {\"type\": \"h2\", \"text\": \"Ending Notes\"}}, \"n-bIysxB\": {\"type\": \"text\", \"data\": {\"text\": \"This storymap provides an introduction to travel demand modeling on its basic concept, purpose, general process, and types, and finally, advantages and limitations, to share information with the general public on travel demand models applied in transportation planning. As a part of the modeling efforts in CLMPO, we hope the page will be useful to engage the discussion of better decision-making in developing effective transportation systems. Please reach out for questions or comments <a href=\\\"https://arcg.is/0m4T4b\\\" rel=\\\"noopener noreferrer\\\" target=\\\"_blank\\\">here</a>. \", \"type\": \"paragraph\"}}, \"n-fJzXjh\": {\"type\": \"text\", \"data\": {\"text\": \"\", \"type\": \"h4\"}}, \"n-mCJP7y\": {\"type\": \"text\", \"data\": {\"text\": \"\", \"type\": \"paragraph\"}}, \"n-AFWh6g\": {\"type\": \"attribution\", \"data\": {\"content\": \"\", \"attribution\": \"\"}}, \"n-F2XI7v\": {\"type\": \"credits\", \"children\": [\"n-fJzXjh\", \"n-mCJP7y\", \"n-AFWh6g\"]}, \"n-x4hbBI\": {\"type\": \"story\", \"data\": {\"storyTheme\": \"r-tV1v0Y\"}, \"config\": {\"coverDate\": \"first-published\"}, \"children\": [\"n-YwZww0\", \"n-twEbk5\", \"n-iXqYEq\", \"n-N7RSip\", \"n-hcy8er\", \"n-b638kJ\", \"n-9Sv7a3\", \"n-mDShma\", \"n-ngeNvZ\", \"n-wotYzs\", \"n-38SuMx\", \"n-3hrcPU\", \"n-JGaLVx\", \"n-5rumHP\", \"n-5ykkMG\", \"n-eOVglB\", \"n-hv53tZ\", \"n-O8DdQ0\", \"n-xYnk0S\", \"n-8kPlkF\", \"n-tZrXNo\", \"n-vGOTy3\", \"n-Z7X8ep\", \"n-5syjNn\", \"n-jrPZco\", \"n-Oqk8NA\", \"n-VR1cdU\", \"n-yU1UUa\", \"n-NaFqCx\", \"n-HE7FT2\", \"n-nmuncw\", \"n-Rc9CrC\", \"n-kr8Fbi\", \"n-9mSYKV\", \"n-O2OfFg\", \"n-72ziDy\", \"n-dcGNiu\", \"n-D5Pdq8\", \"n-N4yPCC\", \"n-uxnOFF\", \"n-2UMvRp\", \"n-d5naoD\", \"n-bIysxB\", \"n-F2XI7v\"]}}, \"resources\": {\"r-cWNndr\": {\"type\": \"image\", \"data\": {\"resourceId\": \"nls6zodNka1eaC5FmyadR.jpeg\", \"provider\": \"item-resource\", \"height\": 667, \"width\": 1000}}, \"r-SFx7eP\": {\"type\": \"image\", \"data\": {\"resourceId\": \"sl2IcMBkwLMhUxl_49iGL.png\", \"provider\": \"item-resource\", \"height\": 720, \"width\": 960}}, \"r-PEnQW7\": {\"type\": \"image\", \"data\": {\"resourceId\": \"362aCl25qSphsCWWAuThE.jpeg\", \"provider\": \"item-resource\", \"height\": 720, \"width\": 1280}}, \"r-WguS19\": {\"type\": \"image\", \"data\": {\"resourceId\": \"nbc467G2EetiEVWFM2d8d.jpeg\", \"provider\": \"item-resource\", \"height\": 720, \"width\": 960}}, \"r-Z5ct2Y\": {\"type\": \"express-image-data\", \"data\": {\"itemId\": \"expressimage_1676059634401.json\", \"provider\": \"item-resource\"}}, \"r-XBO7Af\": {\"type\": \"image\", \"data\": {\"resourceId\": \"AIJp9OEHMoyXWMm9LbGL5.png\", \"provider\": \"item-resource\", \"height\": 720, \"width\": 960}}, \"r-4DdayZ\": {\"type\": \"image\", \"data\": {\"resourceId\": \"UxNjhTHLtLsg4lAEjKbdT.jpeg\", \"provider\": \"item-resource\", \"height\": 358, \"width\": 960}}, \"r-eGr2mx\": {\"type\": \"express-image-data\", \"data\": {\"itemId\": \"expressimage_1676088898016.json\", \"provider\": \"item-resource\"}}, \"r-6Vh5L1\": {\"type\": \"image\", \"data\": {\"resourceId\": \"nSFfJce5N1YftE8v2Nmbz.png\", \"provider\": \"item-resource\", \"height\": 747, \"width\": 850}}, \"r-tV1v0Y\": {\"type\": \"story-theme\", \"data\": {\"themeId\": \"slate\", \"themeBaseVariableOverrides\": {}}}}}"
      ]
     },
     "execution_count": 4,
     "metadata": {},
     "output_type": "execute_result"
    }
   ],
   "source": [
    "exst_stry"
   ]
  },
  {
   "cell_type": "code",
   "execution_count": 38,
   "id": "759e9065",
   "metadata": {},
   "outputs": [],
   "source": [
    "all_nodes = exst_stry.nodes"
   ]
  },
  {
   "cell_type": "code",
   "execution_count": 39,
   "id": "40e9cc05",
   "metadata": {},
   "outputs": [],
   "source": [
    "list_text_obj = []"
   ]
  },
  {
   "cell_type": "code",
   "execution_count": 42,
   "id": "e5a7877e",
   "metadata": {},
   "outputs": [],
   "source": [
    "for node in all_nodes:\n",
    "    for key, value in node.items():\n",
    "        if isinstance(value, Text):\n",
    "            list_text_obj.append(value)"
   ]
  },
  {
   "cell_type": "code",
   "execution_count": 45,
   "id": "e0eddbd7",
   "metadata": {},
   "outputs": [],
   "source": [
    "text_list = []"
   ]
  },
  {
   "cell_type": "code",
   "execution_count": 46,
   "id": "12d5e3ae",
   "metadata": {},
   "outputs": [],
   "source": [
    "for txt_obj in list_text_obj:\n",
    "    text_list.append(get_text_from_Text_obj(txt_obj))"
   ]
  },
  {
   "cell_type": "code",
   "execution_count": 47,
   "id": "681a75a4",
   "metadata": {},
   "outputs": [],
   "source": [
    "path = r'T:\\DCProjects\\StoryMap\\Models\\TravelDemand'"
   ]
  },
  {
   "cell_type": "code",
   "execution_count": 52,
   "id": "a438c132",
   "metadata": {},
   "outputs": [],
   "source": [
    "with open(os.path.join(path, \"storymap_text.pkl\"), \"wb\") as f:\n",
    "        pickle.dump(text_list, f)"
   ]
  },
  {
   "cell_type": "code",
   "execution_count": 41,
   "id": "8f302961",
   "metadata": {},
   "outputs": [],
   "source": [
    "def get_text_from_Text_obj(Text_obj):\n",
    "    node_dict = Text_obj.properties\n",
    "    return node_dict['node_dict']['data']['text']"
   ]
  },
  {
   "cell_type": "code",
   "execution_count": 43,
   "id": "30aefbcd",
   "metadata": {},
   "outputs": [
    {
     "data": {
      "text/plain": [
       "'What is travel demand modeling?'"
      ]
     },
     "execution_count": 43,
     "metadata": {},
     "output_type": "execute_result"
    }
   ],
   "source": [
    "get_text_from_Text_obj(list_text_obj[0])"
   ]
  }
 ],
 "metadata": {
  "kernelspec": {
   "display_name": "Python 3",
   "language": "python",
   "name": "python3"
  },
  "language_info": {
   "codemirror_mode": {
    "name": "ipython",
    "version": 3
   },
   "file_extension": ".py",
   "mimetype": "text/x-python",
   "name": "python",
   "nbconvert_exporter": "python",
   "pygments_lexer": "ipython3",
   "version": "3.8.8"
  }
 },
 "nbformat": 4,
 "nbformat_minor": 5
}
