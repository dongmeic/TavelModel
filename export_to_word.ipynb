{
 "cells": [
  {
   "cell_type": "code",
   "execution_count": 2,
   "id": "d17b0840",
   "metadata": {},
   "outputs": [],
   "source": [
    "import docx\n",
    "from docx import Document\n",
    "import pickle\n",
    "import os"
   ]
  },
  {
   "cell_type": "code",
   "execution_count": 3,
   "id": "d22cadbf",
   "metadata": {},
   "outputs": [],
   "source": [
    "path = r'T:\\DCProjects\\StoryMap\\Models\\TravelDemand'"
   ]
  },
  {
   "cell_type": "code",
   "execution_count": 4,
   "id": "eaba2f34",
   "metadata": {},
   "outputs": [],
   "source": [
    "with open(os.path.join(path, \"storymap_text.pkl\"), \"rb\") as f:\n",
    "        text_list = pickle.load(f)"
   ]
  },
  {
   "cell_type": "code",
   "execution_count": 6,
   "id": "573e2133",
   "metadata": {},
   "outputs": [],
   "source": [
    "document = Document()"
   ]
  },
  {
   "cell_type": "code",
   "execution_count": 7,
   "id": "d1838f41",
   "metadata": {},
   "outputs": [],
   "source": [
    "# Write each string in the list to the document\n",
    "for text in text_list:\n",
    "    document.add_paragraph(text)\n",
    "\n",
    "# Save the document\n",
    "document.save(os.path.join(path,'storymap_text.docx'))"
   ]
  }
 ],
 "metadata": {
  "kernelspec": {
   "display_name": "Python 3",
   "language": "python",
   "name": "python3"
  },
  "language_info": {
   "codemirror_mode": {
    "name": "ipython",
    "version": 3
   },
   "file_extension": ".py",
   "mimetype": "text/x-python",
   "name": "python",
   "nbconvert_exporter": "python",
   "pygments_lexer": "ipython3",
   "version": "3.8.8"
  }
 },
 "nbformat": 4,
 "nbformat_minor": 5
}
